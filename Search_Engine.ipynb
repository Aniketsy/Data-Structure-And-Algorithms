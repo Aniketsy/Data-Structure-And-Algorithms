{
  "nbformat": 4,
  "nbformat_minor": 0,
  "metadata": {
    "colab": {
      "provenance": []
    },
    "kernelspec": {
      "name": "python3",
      "display_name": "Python 3"
    },
    "language_info": {
      "name": "python"
    },
    "widgets": {
      "application/vnd.jupyter.widget-state+json": {
        "9dc2cd8bb4214cdba3495e91e46aa54c": {
          "model_module": "@jupyter-widgets/controls",
          "model_name": "TextModel",
          "model_module_version": "1.5.0",
          "state": {
            "_dom_classes": [],
            "_model_module": "@jupyter-widgets/controls",
            "_model_module_version": "1.5.0",
            "_model_name": "TextModel",
            "_view_count": null,
            "_view_module": "@jupyter-widgets/controls",
            "_view_module_version": "1.5.0",
            "_view_name": "TextView",
            "continuous_update": true,
            "description": "",
            "description_tooltip": null,
            "disabled": false,
            "layout": "IPY_MODEL_6dd6ad47feab4f2db74054efff150396",
            "placeholder": "Enter your query...",
            "style": "IPY_MODEL_e1af0575fdf74f3290de0130d7464e9d",
            "value": "Python"
          }
        },
        "6dd6ad47feab4f2db74054efff150396": {
          "model_module": "@jupyter-widgets/base",
          "model_name": "LayoutModel",
          "model_module_version": "1.2.0",
          "state": {
            "_model_module": "@jupyter-widgets/base",
            "_model_module_version": "1.2.0",
            "_model_name": "LayoutModel",
            "_view_count": null,
            "_view_module": "@jupyter-widgets/base",
            "_view_module_version": "1.2.0",
            "_view_name": "LayoutView",
            "align_content": null,
            "align_items": null,
            "align_self": null,
            "border": null,
            "bottom": null,
            "display": null,
            "flex": null,
            "flex_flow": null,
            "grid_area": null,
            "grid_auto_columns": null,
            "grid_auto_flow": null,
            "grid_auto_rows": null,
            "grid_column": null,
            "grid_gap": null,
            "grid_row": null,
            "grid_template_areas": null,
            "grid_template_columns": null,
            "grid_template_rows": null,
            "height": null,
            "justify_content": null,
            "justify_items": null,
            "left": null,
            "margin": null,
            "max_height": null,
            "max_width": null,
            "min_height": null,
            "min_width": null,
            "object_fit": null,
            "object_position": null,
            "order": null,
            "overflow": null,
            "overflow_x": null,
            "overflow_y": null,
            "padding": null,
            "right": null,
            "top": null,
            "visibility": null,
            "width": null
          }
        },
        "e1af0575fdf74f3290de0130d7464e9d": {
          "model_module": "@jupyter-widgets/controls",
          "model_name": "DescriptionStyleModel",
          "model_module_version": "1.5.0",
          "state": {
            "_model_module": "@jupyter-widgets/controls",
            "_model_module_version": "1.5.0",
            "_model_name": "DescriptionStyleModel",
            "_view_count": null,
            "_view_module": "@jupyter-widgets/base",
            "_view_module_version": "1.2.0",
            "_view_name": "StyleView",
            "description_width": ""
          }
        },
        "ed16aed6865a4a23a01724616b7c549e": {
          "model_module": "@jupyter-widgets/output",
          "model_name": "OutputModel",
          "model_module_version": "1.0.0",
          "state": {
            "_dom_classes": [],
            "_model_module": "@jupyter-widgets/output",
            "_model_module_version": "1.0.0",
            "_model_name": "OutputModel",
            "_view_count": null,
            "_view_module": "@jupyter-widgets/output",
            "_view_module_version": "1.0.0",
            "_view_name": "OutputView",
            "layout": "IPY_MODEL_166b14800bb24347b0acef323bc7b3c3",
            "msg_id": "",
            "outputs": [
              {
                "output_type": "stream",
                "name": "stdout",
                "text": [
                  "Results:\n",
                  "🔑 python:\n",
                  "    - https://python.org\n",
                  "    - https://docs.python.org\n"
                ]
              }
            ]
          }
        },
        "166b14800bb24347b0acef323bc7b3c3": {
          "model_module": "@jupyter-widgets/base",
          "model_name": "LayoutModel",
          "model_module_version": "1.2.0",
          "state": {
            "_model_module": "@jupyter-widgets/base",
            "_model_module_version": "1.2.0",
            "_model_name": "LayoutModel",
            "_view_count": null,
            "_view_module": "@jupyter-widgets/base",
            "_view_module_version": "1.2.0",
            "_view_name": "LayoutView",
            "align_content": null,
            "align_items": null,
            "align_self": null,
            "border": null,
            "bottom": null,
            "display": null,
            "flex": null,
            "flex_flow": null,
            "grid_area": null,
            "grid_auto_columns": null,
            "grid_auto_flow": null,
            "grid_auto_rows": null,
            "grid_column": null,
            "grid_gap": null,
            "grid_row": null,
            "grid_template_areas": null,
            "grid_template_columns": null,
            "grid_template_rows": null,
            "height": null,
            "justify_content": null,
            "justify_items": null,
            "left": null,
            "margin": null,
            "max_height": null,
            "max_width": null,
            "min_height": null,
            "min_width": null,
            "object_fit": null,
            "object_position": null,
            "order": null,
            "overflow": null,
            "overflow_x": null,
            "overflow_y": null,
            "padding": null,
            "right": null,
            "top": null,
            "visibility": null,
            "width": null
          }
        }
      }
    }
  },
  "cells": [
    {
      "cell_type": "markdown",
      "source": [
        "# Building a search engine prototype with Trie and Hashing"
      ],
      "metadata": {
        "id": "ha7LGZysJGGk"
      }
    },
    {
      "cell_type": "markdown",
      "source": [
        "We start by defining the Trie (for prefix-based search/autocomplete) and a SearchIndexer class that also maintains a Hash Map for quick keyword-to-URL lookups.\n",
        "\n",
        "**🔷 Theory:**\n",
        "\n",
        "A **Trie is a tree-like data structure that stores strings character by character.**\n",
        "\n",
        "It's perfect for prefix-based queries, e.g., \"pro\" matches \"program\", \"programming\", etc.\n",
        "\n",
        "A **Hash Map is used to quickly retrieve documents/URLs** associated with each keyword.\n",
        "\n"
      ],
      "metadata": {
        "id": "2FMa2UV3J26U"
      }
    },
    {
      "cell_type": "code",
      "execution_count": null,
      "metadata": {
        "id": "ScrVRhzZHjxt"
      },
      "outputs": [],
      "source": [
        "# --------- trie.py (inline) ----------------\n",
        "\n",
        "class TrieNode:\n",
        "    def __init__(self):\n",
        "        self.children = {}\n",
        "        self.is_end_of_word = False\n",
        "        self.suggestions = set()\n",
        "\n",
        "class Trie:\n",
        "    def __init__(self):\n",
        "        self.root = TrieNode()\n",
        "\n",
        "    def insert(self, word, reference):\n",
        "        node = self.root\n",
        "        for char in word.lower():\n",
        "            if char not in node.children:\n",
        "                node.children[char] = TrieNode()\n",
        "            node = node.children[char]\n",
        "            node.suggestions.add(reference)\n",
        "        node.is_end_of_word = True\n",
        "\n",
        "    def search(self, prefix):\n",
        "        node = self.root\n",
        "        for char in prefix.lower():\n",
        "            if char not in node.children:\n",
        "                return set()\n",
        "            node = node.children[char]\n",
        "        return node.suggestions\n",
        "\n",
        "# --------- indexer.py (inline) ------------------\n",
        "\n",
        "#This class acts as our Search Engine's Brain — storing all the keywords,\n",
        "# mapping them to URLs, and connecting both the Trie and Hash Map.\n",
        "\n",
        "class SearchIndexer:\n",
        "    def __init__(self):\n",
        "        self.trie = Trie()\n",
        "        self.keyword_map = {}\n",
        "\n",
        "    def add_document(self, keyword, url):\n",
        "        self.trie.insert(keyword, keyword)  # use keyword as reference\n",
        "        if keyword not in self.keyword_map:\n",
        "            self.keyword_map[keyword] = []\n",
        "        self.keyword_map[keyword].append(url)\n",
        "\n",
        "    def get_urls_by_keyword(self, keyword):\n",
        "        return self.keyword_map.get(keyword, [])\n",
        "\n",
        "    def autocomplete(self, prefix):\n",
        "        return self.trie.search(prefix)\n",
        "\n",
        "# --------- search.py (inline) ----------\n",
        "\n",
        "# When a user types a prefix query, the search engine should return:\n",
        "# Matching keywords (from Trie)Corresponding URLs (from Hash Map)\n",
        "\n",
        "def search_engine(indexer, query):\n",
        "    suggestions = indexer.autocomplete(query)\n",
        "    if not suggestions:\n",
        "        return f\"No results for '{query}'\"\n",
        "\n",
        "    results = []\n",
        "    for keyword in suggestions:\n",
        "        urls = indexer.get_urls_by_keyword(keyword)\n",
        "        results.append((keyword, urls))\n",
        "    return results\n"
      ]
    },
    {
      "cell_type": "code",
      "source": [
        "# Simulating sample_data.txt\n",
        "sample_data = \"\"\"\n",
        "python https://python.org\n",
        "python https://docs.python.org\n",
        "programming https://geeksforgeeks.org\n",
        "program https://example.com/programming\n",
        "java https://oracle.com/java\n",
        "javascript https://developer.mozilla.org/javascript\n",
        "\"\"\"\n",
        "\n",
        "# Create indexer and load data\n",
        "indexer = SearchIndexer()\n",
        "for line in sample_data.strip().split('\\n'):\n",
        "    keyword, url = line.strip().split()\n",
        "    indexer.add_document(keyword, url)\n"
      ],
      "metadata": {
        "id": "D3VfLHdZHn1o"
      },
      "execution_count": null,
      "outputs": []
    },
    {
      "cell_type": "code",
      "source": [
        "# Simple interactive search\n",
        "while True:\n",
        "    query = input(\"\\nEnter search query (or 'exit'): \").strip()\n",
        "    if query.lower() == 'exit':\n",
        "        break\n",
        "    results = search_engine(indexer, query)\n",
        "    print(\"Results:\")\n",
        "    if isinstance(results, str):\n",
        "        print(results)\n",
        "    else:\n",
        "        for keyword, urls in results:\n",
        "            print(f\"🔑 {keyword}:\")\n",
        "            for url in urls:\n",
        "                print(f\"    - {url}\")\n"
      ],
      "metadata": {
        "colab": {
          "base_uri": "https://localhost:8080/"
        },
        "id": "WaNAIem3Hqcw",
        "outputId": "f38d6e0a-26bc-4c76-d5e4-a6cf46e8c6eb"
      },
      "execution_count": null,
      "outputs": [
        {
          "name": "stdout",
          "output_type": "stream",
          "text": [
            "\n",
            "Enter search query (or 'exit'): Python\n",
            "Results:\n",
            "🔑 python:\n",
            "    - https://python.org\n",
            "    - https://docs.python.org\n",
            "\n",
            "Enter search query (or 'exit'): exit\n"
          ]
        }
      ]
    },
    {
      "cell_type": "markdown",
      "source": [
        "**Search Box UI **"
      ],
      "metadata": {
        "id": "h0yKQZwRKrUC"
      }
    },
    {
      "cell_type": "code",
      "source": [
        "import ipywidgets as widgets\n",
        "from IPython.display import display\n",
        "\n",
        "search_box = widgets.Text(placeholder='Enter your query...')\n",
        "output = widgets.Output()\n",
        "\n",
        "def on_submit(sender):\n",
        "    query = search_box.value\n",
        "    output.clear_output()\n",
        "    with output:\n",
        "        results = search_engine(indexer, query)\n",
        "        print(\"Results:\")\n",
        "        if isinstance(results, str):\n",
        "            print(results)\n",
        "        else:\n",
        "            for keyword, urls in results:\n",
        "                print(f\"🔑 {keyword}:\")\n",
        "                for url in urls:\n",
        "                    print(f\"    - {url}\")\n",
        "\n",
        "search_box.on_submit(on_submit)\n",
        "display(search_box, output)\n"
      ],
      "metadata": {
        "colab": {
          "base_uri": "https://localhost:8080/",
          "height": 118,
          "referenced_widgets": [
            "9dc2cd8bb4214cdba3495e91e46aa54c",
            "6dd6ad47feab4f2db74054efff150396",
            "e1af0575fdf74f3290de0130d7464e9d",
            "ed16aed6865a4a23a01724616b7c549e",
            "166b14800bb24347b0acef323bc7b3c3"
          ]
        },
        "id": "bebOwDglHx-O",
        "outputId": "e4ca5de4-32dc-4f3f-8f5d-ee0ca960a3a9"
      },
      "execution_count": null,
      "outputs": [
        {
          "output_type": "display_data",
          "data": {
            "text/plain": [
              "Text(value='', placeholder='Enter your query...')"
            ],
            "application/vnd.jupyter.widget-view+json": {
              "version_major": 2,
              "version_minor": 0,
              "model_id": "9dc2cd8bb4214cdba3495e91e46aa54c"
            }
          },
          "metadata": {}
        },
        {
          "output_type": "display_data",
          "data": {
            "text/plain": [
              "Output()"
            ],
            "application/vnd.jupyter.widget-view+json": {
              "version_major": 2,
              "version_minor": 0,
              "model_id": "ed16aed6865a4a23a01724616b7c549e"
            }
          },
          "metadata": {}
        }
      ]
    }
  ]
}